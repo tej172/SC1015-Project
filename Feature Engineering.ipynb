{
 "cells": [
  {
   "cell_type": "markdown",
   "id": "6aef01ca",
   "metadata": {},
   "source": [
    "<h2>Feature Engineering (Dimension Reduction)</h2>\n",
    "<br>\n",
    "While our tree-based models are able to inherently perform feature selection, other models may be affected by potential noises from features that are not as useful. Hence, in this notebook, we attempt to reduce the dimension of our dataset. We will also scale our numerical variables as we attempt to improve the performance of our models that are likely affected by unscaled data (K-Nearest-Neighbours)."
   ]
  },
  {
   "cell_type": "markdown",
   "id": "cec351ef",
   "metadata": {},
   "source": [
    "<h3>Importing of essential libraries</h3>"
   ]
  },
  {
   "cell_type": "code",
   "execution_count": 89,
   "id": "de975365",
   "metadata": {},
   "outputs": [],
   "source": [
    "import numpy as np\n",
    "import pandas as pd\n",
    "import matplotlib.pyplot as plt\n",
    "import seaborn as sb\n",
    "from sklearn.feature_selection import mutual_info_classif, chi2, SelectKBest\n",
    "from sklearn.preprocessing import MinMaxScaler\n",
    "sb.set(font_scale=2)"
   ]
  },
  {
   "cell_type": "markdown",
   "id": "bb4be9f9",
   "metadata": {},
   "source": [
    "<h3>Importing our datasets</h3>"
   ]
  },
  {
   "cell_type": "code",
   "execution_count": 90,
   "id": "7e87ea31",
   "metadata": {},
   "outputs": [],
   "source": [
    "x_train = pd.read_csv('Data/x_train.csv')\n",
    "y_train = pd.read_csv('Data/y_train.csv')\n",
    "\n",
    "x_test = pd.read_csv('Data/x_test.csv')\n",
    "y_test = pd.read_csv('Data/y_test.csv')"
   ]
  },
  {
   "cell_type": "markdown",
   "id": "7b53f6d8",
   "metadata": {},
   "source": [
    "<h3>Understanding our features</h3>\n",
    "<br>\n",
    "<br>1. Education: Highest education attainment\n",
    "<br>2. Marital: Marital status\n",
    "<br>3. Sex: Gender\n",
    "<br>4. Age: Age\n",
    "<br>5. Race: Race\n",
    "<br>6. Veteran: Veteran status\n",
    "<br>7. Pro_Cert: Possession of professional certificates\n",
    "<br>8. Gov_Cert: Possession of government certificates\n",
    "<br>9. Cert_Need: Whether the certification is needed for their job\n",
    "<br>10. Disability: Disability Status\n",
    "<br>11. Citizenship: Citizenship group\n",
    "<br>12. Last Week Working Hrs: Last Week's Working Hours\n",
    "<br>13. Less than 35hrs for at least 1 week: Whether respondent worked less than 35 hours for at least one week\n",
    "<br>14. More than 35hrs weekly: Usually work more than 35 hours weekly\n",
    "<br>15. Detailed Household Status: Detailed Household Status\n",
    "<br>16. HrsWeek: Usual Weekly Working Hours\n",
    "<br>17. Industry: Industry\n",
    "<br>18. Occupation Group: Occupation Group\n",
    "<br>19. Occupation: Occupation\n",
    "<br>20. WorkClass: Work Class; private, government, self-employed etc\n",
    "<br>21. Longest Industry: Longest Industry respondent was in\n",
    "<br>22. Longest Job Class: Longest Work Class respondent was in\n",
    "<br>\n",
    "<br>We can split our predictor variables into categorical and numerical."
   ]
  },
  {
   "cell_type": "code",
   "execution_count": 91,
   "id": "0f1cc45b",
   "metadata": {},
   "outputs": [
    {
     "name": "stdout",
     "output_type": "stream",
     "text": [
      "###Numerical###\n",
      "Age\n",
      "Last Week Working Hrs\n",
      "HrsWeek\n",
      "\n",
      "###Categorical###\n",
      "Education\n",
      "Marital\n",
      "Sex\n",
      "Race\n",
      "Veteran\n",
      "Pro_Cert\n",
      "Gov_Cert\n",
      "Cert_Need\n",
      "Disability\n",
      "Citizenship\n",
      "Less than 35hrs for at least 1 week\n",
      "Detailed Household Status\n",
      "More than 35hrs weekly\n",
      "Industry\n",
      "Occupation Group\n",
      "Occupation\n",
      "WorkClass\n",
      "Longest Industry\n",
      "Longest Job Class\n"
     ]
    }
   ],
   "source": [
    "#numerical features\n",
    "numerical = ['Age', 'Last Week Working Hrs', 'HrsWeek']\n",
    "\n",
    "#categorical features\n",
    "categorical = []\n",
    "for feature in x_train.columns:\n",
    "    if feature not in numerical:\n",
    "        categorical.append(feature)\n",
    "\n",
    "print('###Numerical###')\n",
    "for feature in numerical:\n",
    "    print(feature)\n",
    "print()\n",
    "print('###Categorical###')\n",
    "for feature in categorical:\n",
    "    print(feature)"
   ]
  },
  {
   "cell_type": "markdown",
   "id": "22eaa442",
   "metadata": {},
   "source": [
    "<h3>Feature Transformation</h3>\n",
    "<br>\n",
    "We will scale our numerical data using the MinMax Scaler"
   ]
  },
  {
   "cell_type": "code",
   "execution_count": 92,
   "id": "a5dabe74",
   "metadata": {},
   "outputs": [
    {
     "data": {
      "text/html": [
       "<div>\n",
       "<style scoped>\n",
       "    .dataframe tbody tr th:only-of-type {\n",
       "        vertical-align: middle;\n",
       "    }\n",
       "\n",
       "    .dataframe tbody tr th {\n",
       "        vertical-align: top;\n",
       "    }\n",
       "\n",
       "    .dataframe thead th {\n",
       "        text-align: right;\n",
       "    }\n",
       "</style>\n",
       "<table border=\"1\" class=\"dataframe\">\n",
       "  <thead>\n",
       "    <tr style=\"text-align: right;\">\n",
       "      <th></th>\n",
       "      <th>Age</th>\n",
       "      <th>Last Week Working Hrs</th>\n",
       "      <th>HrsWeek</th>\n",
       "    </tr>\n",
       "  </thead>\n",
       "  <tbody>\n",
       "    <tr>\n",
       "      <th>0</th>\n",
       "      <td>23</td>\n",
       "      <td>60</td>\n",
       "      <td>45</td>\n",
       "    </tr>\n",
       "    <tr>\n",
       "      <th>1</th>\n",
       "      <td>39</td>\n",
       "      <td>60</td>\n",
       "      <td>40</td>\n",
       "    </tr>\n",
       "    <tr>\n",
       "      <th>2</th>\n",
       "      <td>19</td>\n",
       "      <td>15</td>\n",
       "      <td>20</td>\n",
       "    </tr>\n",
       "    <tr>\n",
       "      <th>3</th>\n",
       "      <td>50</td>\n",
       "      <td>0</td>\n",
       "      <td>30</td>\n",
       "    </tr>\n",
       "    <tr>\n",
       "      <th>4</th>\n",
       "      <td>33</td>\n",
       "      <td>0</td>\n",
       "      <td>50</td>\n",
       "    </tr>\n",
       "    <tr>\n",
       "      <th>...</th>\n",
       "      <td>...</td>\n",
       "      <td>...</td>\n",
       "      <td>...</td>\n",
       "    </tr>\n",
       "    <tr>\n",
       "      <th>51190</th>\n",
       "      <td>33</td>\n",
       "      <td>40</td>\n",
       "      <td>40</td>\n",
       "    </tr>\n",
       "    <tr>\n",
       "      <th>51191</th>\n",
       "      <td>61</td>\n",
       "      <td>30</td>\n",
       "      <td>30</td>\n",
       "    </tr>\n",
       "    <tr>\n",
       "      <th>51192</th>\n",
       "      <td>71</td>\n",
       "      <td>8</td>\n",
       "      <td>8</td>\n",
       "    </tr>\n",
       "    <tr>\n",
       "      <th>51193</th>\n",
       "      <td>32</td>\n",
       "      <td>80</td>\n",
       "      <td>40</td>\n",
       "    </tr>\n",
       "    <tr>\n",
       "      <th>51194</th>\n",
       "      <td>35</td>\n",
       "      <td>60</td>\n",
       "      <td>60</td>\n",
       "    </tr>\n",
       "  </tbody>\n",
       "</table>\n",
       "<p>51195 rows × 3 columns</p>\n",
       "</div>"
      ],
      "text/plain": [
       "       Age  Last Week Working Hrs  HrsWeek\n",
       "0       23                     60       45\n",
       "1       39                     60       40\n",
       "2       19                     15       20\n",
       "3       50                      0       30\n",
       "4       33                      0       50\n",
       "...    ...                    ...      ...\n",
       "51190   33                     40       40\n",
       "51191   61                     30       30\n",
       "51192   71                      8        8\n",
       "51193   32                     80       40\n",
       "51194   35                     60       60\n",
       "\n",
       "[51195 rows x 3 columns]"
      ]
     },
     "execution_count": 92,
     "metadata": {},
     "output_type": "execute_result"
    }
   ],
   "source": [
    "x_train.loc[:,numerical]"
   ]
  },
  {
   "cell_type": "code",
   "execution_count": 93,
   "id": "a1ca9776",
   "metadata": {},
   "outputs": [],
   "source": [
    "scaler = MinMaxScaler().fit(x_train.loc[:,numerical])\n",
    "x_train.loc[:,numerical] = scaler.transform(x_train.loc[:,numerical])\n",
    "x_test.loc[:,numerical] = scaler.transform(x_test.loc[:,numerical])"
   ]
  },
  {
   "cell_type": "markdown",
   "id": "7db550b8",
   "metadata": {},
   "source": [
    "The new scaled columns"
   ]
  },
  {
   "cell_type": "code",
   "execution_count": 94,
   "id": "6e3ff767",
   "metadata": {},
   "outputs": [
    {
     "data": {
      "text/html": [
       "<div>\n",
       "<style scoped>\n",
       "    .dataframe tbody tr th:only-of-type {\n",
       "        vertical-align: middle;\n",
       "    }\n",
       "\n",
       "    .dataframe tbody tr th {\n",
       "        vertical-align: top;\n",
       "    }\n",
       "\n",
       "    .dataframe thead th {\n",
       "        text-align: right;\n",
       "    }\n",
       "</style>\n",
       "<table border=\"1\" class=\"dataframe\">\n",
       "  <thead>\n",
       "    <tr style=\"text-align: right;\">\n",
       "      <th></th>\n",
       "      <th>Age</th>\n",
       "      <th>Last Week Working Hrs</th>\n",
       "      <th>HrsWeek</th>\n",
       "    </tr>\n",
       "  </thead>\n",
       "  <tbody>\n",
       "    <tr>\n",
       "      <th>0</th>\n",
       "      <td>0.114286</td>\n",
       "      <td>0.606061</td>\n",
       "      <td>0.448980</td>\n",
       "    </tr>\n",
       "    <tr>\n",
       "      <th>1</th>\n",
       "      <td>0.342857</td>\n",
       "      <td>0.606061</td>\n",
       "      <td>0.397959</td>\n",
       "    </tr>\n",
       "    <tr>\n",
       "      <th>2</th>\n",
       "      <td>0.057143</td>\n",
       "      <td>0.151515</td>\n",
       "      <td>0.193878</td>\n",
       "    </tr>\n",
       "    <tr>\n",
       "      <th>3</th>\n",
       "      <td>0.500000</td>\n",
       "      <td>0.000000</td>\n",
       "      <td>0.295918</td>\n",
       "    </tr>\n",
       "    <tr>\n",
       "      <th>4</th>\n",
       "      <td>0.257143</td>\n",
       "      <td>0.000000</td>\n",
       "      <td>0.500000</td>\n",
       "    </tr>\n",
       "    <tr>\n",
       "      <th>...</th>\n",
       "      <td>...</td>\n",
       "      <td>...</td>\n",
       "      <td>...</td>\n",
       "    </tr>\n",
       "    <tr>\n",
       "      <th>51190</th>\n",
       "      <td>0.257143</td>\n",
       "      <td>0.404040</td>\n",
       "      <td>0.397959</td>\n",
       "    </tr>\n",
       "    <tr>\n",
       "      <th>51191</th>\n",
       "      <td>0.657143</td>\n",
       "      <td>0.303030</td>\n",
       "      <td>0.295918</td>\n",
       "    </tr>\n",
       "    <tr>\n",
       "      <th>51192</th>\n",
       "      <td>0.800000</td>\n",
       "      <td>0.080808</td>\n",
       "      <td>0.071429</td>\n",
       "    </tr>\n",
       "    <tr>\n",
       "      <th>51193</th>\n",
       "      <td>0.242857</td>\n",
       "      <td>0.808081</td>\n",
       "      <td>0.397959</td>\n",
       "    </tr>\n",
       "    <tr>\n",
       "      <th>51194</th>\n",
       "      <td>0.285714</td>\n",
       "      <td>0.606061</td>\n",
       "      <td>0.602041</td>\n",
       "    </tr>\n",
       "  </tbody>\n",
       "</table>\n",
       "<p>51195 rows × 3 columns</p>\n",
       "</div>"
      ],
      "text/plain": [
       "            Age  Last Week Working Hrs   HrsWeek\n",
       "0      0.114286               0.606061  0.448980\n",
       "1      0.342857               0.606061  0.397959\n",
       "2      0.057143               0.151515  0.193878\n",
       "3      0.500000               0.000000  0.295918\n",
       "4      0.257143               0.000000  0.500000\n",
       "...         ...                    ...       ...\n",
       "51190  0.257143               0.404040  0.397959\n",
       "51191  0.657143               0.303030  0.295918\n",
       "51192  0.800000               0.080808  0.071429\n",
       "51193  0.242857               0.808081  0.397959\n",
       "51194  0.285714               0.606061  0.602041\n",
       "\n",
       "[51195 rows x 3 columns]"
      ]
     },
     "execution_count": 94,
     "metadata": {},
     "output_type": "execute_result"
    }
   ],
   "source": [
    "x_train.loc[:,numerical]"
   ]
  },
  {
   "cell_type": "markdown",
   "id": "c45459ff",
   "metadata": {},
   "source": [
    "<h3>Dimension Reduction</h3>\n",
    "<br>\n",
    "We will perform dimension reduction through features selection. Since we have mostly categorical features, we will reduce the number of categorical features. To do this, we will use 2 methods: Mutual Information and Chi-2 Test to obtain the 15 most relevant features each and take the union of features identified by both methods.\n",
    "<br>\n",
    "<br><b>**We will only do it for the train dataset to avoid information leakage</b>"
   ]
  },
  {
   "cell_type": "markdown",
   "id": "fd16c6e4",
   "metadata": {},
   "source": [
    "<b>Mutual Information</b>\n",
    "<br>Mutual Information allows us to measure how related our feature is to our response variables."
   ]
  },
  {
   "cell_type": "code",
   "execution_count": 95,
   "id": "d9833cb7",
   "metadata": {},
   "outputs": [],
   "source": [
    "#getting the score for MI: 0 is the worst, 1 is the best\n",
    "MIscore = mutual_info_classif(x_train[categorical], y_train.values.ravel())\n",
    "\n",
    "#mapping score to feature\n",
    "featureMIScoreMap = {}\n",
    "idx = 0\n",
    "for var in categorical:\n",
    "    featureMIScoreMap[var] = MIscore[idx]\n",
    "    idx += 1"
   ]
  },
  {
   "cell_type": "code",
   "execution_count": 96,
   "id": "38542075",
   "metadata": {},
   "outputs": [
    {
     "name": "stdout",
     "output_type": "stream",
     "text": [
      "Occupation : 0.24866995116471946\n",
      "Less than 35hrs for at least 1 week : 0.12424925709839307\n",
      "Education : 0.12226432297143175\n",
      "Occupation Group : 0.11867100557438492\n",
      "Longest Industry : 0.09586694680866259\n",
      "More than 35hrs weekly : 0.09258318088114459\n",
      "Detailed Household Status : 0.06453934691995089\n",
      "Industry : 0.06328110854554314\n",
      "Marital : 0.04849125955930278\n",
      "Cert_Need : 0.022669510478366295\n",
      "WorkClass : 0.02245016757791296\n",
      "Pro_Cert : 0.021712109572769478\n",
      "Gov_Cert : 0.019880597732325977\n",
      "Sex : 0.019349025035164225\n",
      "Longest Job Class : 0.018499135976110637\n",
      "Veteran : 0.013760484296965636\n",
      "Citizenship : 0.0124466283204554\n",
      "Race : 0.012352572246313809\n",
      "Disability : 0.006655613588452347\n"
     ]
    },
    {
     "data": {
      "text/plain": [
       "<AxesSubplot:>"
      ]
     },
     "execution_count": 96,
     "metadata": {},
     "output_type": "execute_result"
    },
    {
     "data": {
      "image/png": "[encoded data removed]",
      "text/plain": [
       "<Figure size 2880x2160 with 1 Axes>"
      ]
     },
     "metadata": {},
     "output_type": "display_data"
    }
   ],
   "source": [
    "#visualising scores\n",
    "sorted_keys = []\n",
    "for key, value in sorted(featureMIScoreMap.items(), key=lambda x: x[1], reverse=True):\n",
    "    sorted_keys.append(key)\n",
    "    print(key, ':', value)\n",
    "\n",
    "f, axes = plt.subplots(figsize=(40, 30))\n",
    "sb.barplot(y=list(featureMIScoreMap.keys()), x=list(featureMIScoreMap.values()), orient='h', order=sorted_keys, ax=axes)"
   ]
  },
  {
   "cell_type": "markdown",
   "id": "85fff6e2",
   "metadata": {},
   "source": [
    "<b>Insights</b>\n",
    "<br>According to the MI scores, it appears that disability status is not an important feature. This seems to contradict what we found in EDA that disability tends to lead to lower income. However, it is consistent that citizenship, race and veteran status may not be that important"
   ]
  },
  {
   "cell_type": "markdown",
   "id": "e8eac274",
   "metadata": {},
   "source": [
    "<b>Chi-Squared Test for Independence</b>\n",
    "<br>We can also use the Chi-2 Test to measure the dependence between the features and our response variable. However, Chi-2 Test can only take in non-negative values. Hence, we need to adjust the scale of our features."
   ]
  },
  {
   "cell_type": "code",
   "execution_count": 97,
   "id": "e0cc66ac",
   "metadata": {},
   "outputs": [
    {
     "name": "stdout",
     "output_type": "stream",
     "text": [
      "Veteran\n",
      "Gov_Cert\n",
      "Cert_Need\n"
     ]
    }
   ],
   "source": [
    "#find out features with negative levels\n",
    "negCol = []\n",
    "for col in categorical:\n",
    "    for value in list((x_train[col]>=0)):\n",
    "        if value==False:\n",
    "            negCol.append(col)\n",
    "            print(col)\n",
    "            break"
   ]
  },
  {
   "cell_type": "code",
   "execution_count": 98,
   "id": "dff8b41f",
   "metadata": {},
   "outputs": [
    {
     "name": "stdout",
     "output_type": "stream",
     "text": [
      "### Veteran ###\n",
      "[ 2  1 -1]\n",
      "\n",
      "### Gov_Cert ###\n",
      "[-1  1  2]\n",
      "\n",
      "### Cert_Need ###\n",
      "[-1  2  1]\n",
      "\n"
     ]
    }
   ],
   "source": [
    "#check out levels of these features\n",
    "for col in negCol:\n",
    "    print('###', col, '###')\n",
    "    print(x_train[col].unique())\n",
    "    print()"
   ]
  },
  {
   "cell_type": "code",
   "execution_count": 99,
   "id": "072ad974",
   "metadata": {},
   "outputs": [],
   "source": [
    "#Since their minimum level is -1, we will shift each categorical class by adding 1\n",
    "new_x = pd.DataFrame()\n",
    "\n",
    "for col in categorical:\n",
    "    if col in negCol:\n",
    "        new_x[col] = x_train[col] + 1\n",
    "    else:\n",
    "        new_x[col] = x_train[col]"
   ]
  },
  {
   "cell_type": "code",
   "execution_count": 100,
   "id": "4419701c",
   "metadata": {},
   "outputs": [
    {
     "name": "stdout",
     "output_type": "stream",
     "text": [
      "### Veteran ###\n",
      "[3 2 0]\n",
      "\n",
      "### Gov_Cert ###\n",
      "[0 2 3]\n",
      "\n",
      "### Cert_Need ###\n",
      "[0 3 2]\n",
      "\n"
     ]
    }
   ],
   "source": [
    "#check out new levels of those features\n",
    "for col in negCol:\n",
    "    print('###', col, '###')\n",
    "    print(new_x[col].unique())\n",
    "    print()"
   ]
  },
  {
   "cell_type": "code",
   "execution_count": 101,
   "id": "5a85f8a9",
   "metadata": {},
   "outputs": [],
   "source": [
    "#fit into chi-2 test\n",
    "pScore = chi2(new_x[categorical], y_train.values.ravel())[1]\n",
    "\n",
    "#mapping score to feature\n",
    "featurePScoreMap = {}\n",
    "idx = 0\n",
    "for var in categorical:\n",
    "    featurePScoreMap[var] = pScore[idx]\n",
    "    idx += 1"
   ]
  },
  {
   "cell_type": "code",
   "execution_count": 102,
   "id": "8e35e6ad",
   "metadata": {},
   "outputs": [
    {
     "name": "stdout",
     "output_type": "stream",
     "text": [
      "Disability : 0.4537402007277509\n",
      "Veteran : 0.22151875612092423\n",
      "Race : 1.2228736395956913e-06\n",
      "Longest Job Class : 3.427751770507403e-13\n",
      "Industry : 4.984059473715531e-33\n",
      "Pro_Cert : 4.0002841568913574e-44\n",
      "Citizenship : 9.7997660792459e-62\n",
      "WorkClass : 3.9272609846339284e-65\n",
      "Sex : 1.1820928452009293e-68\n",
      "Longest Industry : 3.873866133204988e-134\n",
      "Education : 0.0\n",
      "Marital : 0.0\n",
      "Gov_Cert : 0.0\n",
      "Cert_Need : 0.0\n",
      "Less than 35hrs for at least 1 week : 0.0\n",
      "Detailed Household Status : 0.0\n",
      "More than 35hrs weekly : 0.0\n",
      "Occupation Group : 0.0\n",
      "Occupation : 0.0\n"
     ]
    }
   ],
   "source": [
    "#visualising scores\n",
    "sorted_keys = []\n",
    "for key, value in sorted(featurePScoreMap.items(), key=lambda x: x[1], reverse=True):\n",
    "    sorted_keys.append(key)\n",
    "    print(key, ':', value)"
   ]
  },
  {
   "cell_type": "markdown",
   "id": "5ddd75da",
   "metadata": {},
   "source": [
    "We see that p score of Disability and Veteran are significantly higher than the rest of the features so we may attempt to remove those columns.\n",
    "<br>\n",
    "<br>\n",
    "However, the p score of all features are belo 0.05, suggesting that there is significant dependence between the feature and salary. Removing features may not improve our model's performance and may instead reduce its performance. However, we will still attempt to reduce the dimension to see the difference."
   ]
  },
  {
   "cell_type": "code",
   "execution_count": 103,
   "id": "1692d363",
   "metadata": {},
   "outputs": [],
   "source": [
    "x_train = x_train.drop(columns=['Disability', 'Veteran'])\n",
    "x_test = x_test.drop(columns=['Disability', 'Veteran'])"
   ]
  },
  {
   "cell_type": "markdown",
   "id": "9fd877f2",
   "metadata": {},
   "source": [
    "<b>Exporting a new set of csv files</b>"
   ]
  },
  {
   "cell_type": "code",
   "execution_count": 86,
   "id": "e70edeef",
   "metadata": {},
   "outputs": [],
   "source": [
    "x_train.to_csv('Data/x_trainEGIN.csv', index=False)\n",
    "x_test.to_csv('Data/x_testEGIN.csv', index=False)"
   ]
  },
  {
   "cell_type": "code",
   "execution_count": null,
   "id": "7492389f",
   "metadata": {},
   "outputs": [],
   "source": []
  }
 ],
 "metadata": {
  "kernelspec": {
   "display_name": "Python 3 (ipykernel)",
   "language": "python",
   "name": "python3"
  },
  "language_info": {
   "codemirror_mode": {
    "name": "ipython",
    "version": 3
   },
   "file_extension": ".py",
   "mimetype": "text/x-python",
   "name": "python",
   "nbconvert_exporter": "python",
   "pygments_lexer": "ipython3",
   "version": "3.9.7"
  }
 },
 "nbformat": 4,
 "nbformat_minor": 5
}
